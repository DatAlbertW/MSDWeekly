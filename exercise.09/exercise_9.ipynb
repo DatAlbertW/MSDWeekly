{
 "cells": [
  {
   "cell_type": "code",
   "execution_count": 31,
   "id": "7421c72f",
   "metadata": {},
   "outputs": [],
   "source": [
    "import pandas as pd\n",
    "import json\n",
    "import matplotlib.pyplot as plt\n",
    "import numpy as np"
   ]
  },
  {
   "cell_type": "code",
   "execution_count": 32,
   "id": "468e0d9b",
   "metadata": {},
   "outputs": [],
   "source": [
    "file_path = '/Users/albertwv/Desktop/MSDWeekly/exercise.09/fundata.json'\n",
    "with open(file_path) as f:\n",
    "    data = json.load(f)"
   ]
  },
  {
   "cell_type": "code",
   "execution_count": 33,
   "id": "58989409",
   "metadata": {},
   "outputs": [],
   "source": [
    "df = pd.DataFrame(data)"
   ]
  },
  {
   "cell_type": "code",
   "execution_count": 34,
   "id": "b5529a48",
   "metadata": {},
   "outputs": [
    {
     "data": {
      "text/html": [
       "<div>\n",
       "<style scoped>\n",
       "    .dataframe tbody tr th:only-of-type {\n",
       "        vertical-align: middle;\n",
       "    }\n",
       "\n",
       "    .dataframe tbody tr th {\n",
       "        vertical-align: top;\n",
       "    }\n",
       "\n",
       "    .dataframe thead th {\n",
       "        text-align: right;\n",
       "    }\n",
       "</style>\n",
       "<table border=\"1\" class=\"dataframe\">\n",
       "  <thead>\n",
       "    <tr style=\"text-align: right;\">\n",
       "      <th></th>\n",
       "      <th>accuracy</th>\n",
       "      <th>data</th>\n",
       "      <th>experimentId</th>\n",
       "      <th>patientId</th>\n",
       "      <th>sensorId</th>\n",
       "      <th>sensorType</th>\n",
       "      <th>timestamp</th>\n",
       "    </tr>\n",
       "  </thead>\n",
       "  <tbody>\n",
       "    <tr>\n",
       "      <th>0</th>\n",
       "      <td>3</td>\n",
       "      <td>[-4.9051185, 1.1807523, 0.8316655]</td>\n",
       "      <td>2</td>\n",
       "      <td>1</td>\n",
       "      <td>Linear Acceleration Sensor</td>\n",
       "      <td>10</td>\n",
       "      <td>34804624015000</td>\n",
       "    </tr>\n",
       "    <tr>\n",
       "      <th>1</th>\n",
       "      <td>3</td>\n",
       "      <td>[6.426337, 9.091084, 10.09186]</td>\n",
       "      <td>2</td>\n",
       "      <td>1</td>\n",
       "      <td>LSM6DSO Accelerometer</td>\n",
       "      <td>1</td>\n",
       "      <td>34805405635680</td>\n",
       "    </tr>\n",
       "    <tr>\n",
       "      <th>2</th>\n",
       "      <td>3</td>\n",
       "      <td>[-4.596216, -0.06004572, 1.4463348]</td>\n",
       "      <td>2</td>\n",
       "      <td>1</td>\n",
       "      <td>Linear Acceleration Sensor</td>\n",
       "      <td>10</td>\n",
       "      <td>34804985094000</td>\n",
       "    </tr>\n",
       "    <tr>\n",
       "      <th>3</th>\n",
       "      <td>3</td>\n",
       "      <td>[1.7666986, 0.78984874, 0.34788775]</td>\n",
       "      <td>2</td>\n",
       "      <td>1</td>\n",
       "      <td>LSM6DSO Gyroscope</td>\n",
       "      <td>4</td>\n",
       "      <td>34806429070349</td>\n",
       "    </tr>\n",
       "    <tr>\n",
       "      <th>4</th>\n",
       "      <td>3</td>\n",
       "      <td>[0.533279, -0.112179, 0.36255, 0.756033, -1.0]</td>\n",
       "      <td>2</td>\n",
       "      <td>1</td>\n",
       "      <td>Samsung Rotation Vector</td>\n",
       "      <td>11</td>\n",
       "      <td>34805165600666</td>\n",
       "    </tr>\n",
       "    <tr>\n",
       "      <th>...</th>\n",
       "      <td>...</td>\n",
       "      <td>...</td>\n",
       "      <td>...</td>\n",
       "      <td>...</td>\n",
       "      <td>...</td>\n",
       "      <td>...</td>\n",
       "      <td>...</td>\n",
       "    </tr>\n",
       "    <tr>\n",
       "      <th>196</th>\n",
       "      <td>3</td>\n",
       "      <td>[0.04070143, 6.344934, 6.6130843]</td>\n",
       "      <td>2</td>\n",
       "      <td>1</td>\n",
       "      <td>LSM6DSO Accelerometer</td>\n",
       "      <td>1</td>\n",
       "      <td>34811823119255</td>\n",
       "    </tr>\n",
       "    <tr>\n",
       "      <th>197</th>\n",
       "      <td>3</td>\n",
       "      <td>[-0.049403727, -0.025045475, 0.067500606]</td>\n",
       "      <td>2</td>\n",
       "      <td>1</td>\n",
       "      <td>LSM6DSO Gyroscope</td>\n",
       "      <td>4</td>\n",
       "      <td>34811844097367</td>\n",
       "    </tr>\n",
       "    <tr>\n",
       "      <th>198</th>\n",
       "      <td>3</td>\n",
       "      <td>[-0.0021, -0.380281, -0.886573, 0.26338, -1.0]</td>\n",
       "      <td>2</td>\n",
       "      <td>1</td>\n",
       "      <td>Samsung Rotation Vector</td>\n",
       "      <td>11</td>\n",
       "      <td>34811844097367</td>\n",
       "    </tr>\n",
       "    <tr>\n",
       "      <th>199</th>\n",
       "      <td>3</td>\n",
       "      <td>[-1.9602516, -0.25678062, -0.3571291]</td>\n",
       "      <td>2</td>\n",
       "      <td>1</td>\n",
       "      <td>Linear Acceleration Sensor</td>\n",
       "      <td>10</td>\n",
       "      <td>34811844097367</td>\n",
       "    </tr>\n",
       "    <tr>\n",
       "      <th>200</th>\n",
       "      <td>3</td>\n",
       "      <td>[0.45489833, 6.476615, 6.7830725]</td>\n",
       "      <td>2</td>\n",
       "      <td>1</td>\n",
       "      <td>LSM6DSO Accelerometer</td>\n",
       "      <td>1</td>\n",
       "      <td>34811923387421</td>\n",
       "    </tr>\n",
       "  </tbody>\n",
       "</table>\n",
       "<p>201 rows × 7 columns</p>\n",
       "</div>"
      ],
      "text/plain": [
       "     accuracy                                            data  experimentId  \\\n",
       "0           3              [-4.9051185, 1.1807523, 0.8316655]             2   \n",
       "1           3                  [6.426337, 9.091084, 10.09186]             2   \n",
       "2           3             [-4.596216, -0.06004572, 1.4463348]             2   \n",
       "3           3             [1.7666986, 0.78984874, 0.34788775]             2   \n",
       "4           3  [0.533279, -0.112179, 0.36255, 0.756033, -1.0]             2   \n",
       "..        ...                                             ...           ...   \n",
       "196         3               [0.04070143, 6.344934, 6.6130843]             2   \n",
       "197         3       [-0.049403727, -0.025045475, 0.067500606]             2   \n",
       "198         3  [-0.0021, -0.380281, -0.886573, 0.26338, -1.0]             2   \n",
       "199         3           [-1.9602516, -0.25678062, -0.3571291]             2   \n",
       "200         3               [0.45489833, 6.476615, 6.7830725]             2   \n",
       "\n",
       "     patientId                    sensorId  sensorType       timestamp  \n",
       "0            1  Linear Acceleration Sensor          10  34804624015000  \n",
       "1            1       LSM6DSO Accelerometer           1  34805405635680  \n",
       "2            1  Linear Acceleration Sensor          10  34804985094000  \n",
       "3            1           LSM6DSO Gyroscope           4  34806429070349  \n",
       "4            1     Samsung Rotation Vector          11  34805165600666  \n",
       "..         ...                         ...         ...             ...  \n",
       "196          1       LSM6DSO Accelerometer           1  34811823119255  \n",
       "197          1           LSM6DSO Gyroscope           4  34811844097367  \n",
       "198          1     Samsung Rotation Vector          11  34811844097367  \n",
       "199          1  Linear Acceleration Sensor          10  34811844097367  \n",
       "200          1       LSM6DSO Accelerometer           1  34811923387421  \n",
       "\n",
       "[201 rows x 7 columns]"
      ]
     },
     "execution_count": 34,
     "metadata": {},
     "output_type": "execute_result"
    }
   ],
   "source": [
    "df"
   ]
  },
  {
   "cell_type": "code",
   "execution_count": 35,
   "id": "7aefe580",
   "metadata": {},
   "outputs": [
    {
     "data": {
      "text/html": [
       "<div>\n",
       "<style scoped>\n",
       "    .dataframe tbody tr th:only-of-type {\n",
       "        vertical-align: middle;\n",
       "    }\n",
       "\n",
       "    .dataframe tbody tr th {\n",
       "        vertical-align: top;\n",
       "    }\n",
       "\n",
       "    .dataframe thead th {\n",
       "        text-align: right;\n",
       "    }\n",
       "</style>\n",
       "<table border=\"1\" class=\"dataframe\">\n",
       "  <thead>\n",
       "    <tr style=\"text-align: right;\">\n",
       "      <th></th>\n",
       "      <th>accuracy</th>\n",
       "      <th>experimentId</th>\n",
       "      <th>patientId</th>\n",
       "      <th>sensorType</th>\n",
       "      <th>timestamp</th>\n",
       "    </tr>\n",
       "  </thead>\n",
       "  <tbody>\n",
       "    <tr>\n",
       "      <th>count</th>\n",
       "      <td>201.0</td>\n",
       "      <td>201.0</td>\n",
       "      <td>201.0</td>\n",
       "      <td>201.000000</td>\n",
       "      <td>2.010000e+02</td>\n",
       "    </tr>\n",
       "    <tr>\n",
       "      <th>mean</th>\n",
       "      <td>3.0</td>\n",
       "      <td>2.0</td>\n",
       "      <td>1.0</td>\n",
       "      <td>5.597015</td>\n",
       "      <td>3.480817e+13</td>\n",
       "    </tr>\n",
       "    <tr>\n",
       "      <th>std</th>\n",
       "      <td>0.0</td>\n",
       "      <td>0.0</td>\n",
       "      <td>0.0</td>\n",
       "      <td>4.319930</td>\n",
       "      <td>2.187217e+09</td>\n",
       "    </tr>\n",
       "    <tr>\n",
       "      <th>min</th>\n",
       "      <td>3.0</td>\n",
       "      <td>2.0</td>\n",
       "      <td>1.0</td>\n",
       "      <td>1.000000</td>\n",
       "      <td>3.480444e+13</td>\n",
       "    </tr>\n",
       "    <tr>\n",
       "      <th>25%</th>\n",
       "      <td>3.0</td>\n",
       "      <td>2.0</td>\n",
       "      <td>1.0</td>\n",
       "      <td>1.000000</td>\n",
       "      <td>3.480625e+13</td>\n",
       "    </tr>\n",
       "    <tr>\n",
       "      <th>50%</th>\n",
       "      <td>3.0</td>\n",
       "      <td>2.0</td>\n",
       "      <td>1.0</td>\n",
       "      <td>4.000000</td>\n",
       "      <td>3.480821e+13</td>\n",
       "    </tr>\n",
       "    <tr>\n",
       "      <th>75%</th>\n",
       "      <td>3.0</td>\n",
       "      <td>2.0</td>\n",
       "      <td>1.0</td>\n",
       "      <td>10.000000</td>\n",
       "      <td>3.481004e+13</td>\n",
       "    </tr>\n",
       "    <tr>\n",
       "      <th>max</th>\n",
       "      <td>3.0</td>\n",
       "      <td>2.0</td>\n",
       "      <td>1.0</td>\n",
       "      <td>11.000000</td>\n",
       "      <td>3.481192e+13</td>\n",
       "    </tr>\n",
       "  </tbody>\n",
       "</table>\n",
       "</div>"
      ],
      "text/plain": [
       "       accuracy  experimentId  patientId  sensorType     timestamp\n",
       "count     201.0         201.0      201.0  201.000000  2.010000e+02\n",
       "mean        3.0           2.0        1.0    5.597015  3.480817e+13\n",
       "std         0.0           0.0        0.0    4.319930  2.187217e+09\n",
       "min         3.0           2.0        1.0    1.000000  3.480444e+13\n",
       "25%         3.0           2.0        1.0    1.000000  3.480625e+13\n",
       "50%         3.0           2.0        1.0    4.000000  3.480821e+13\n",
       "75%         3.0           2.0        1.0   10.000000  3.481004e+13\n",
       "max         3.0           2.0        1.0   11.000000  3.481192e+13"
      ]
     },
     "execution_count": 35,
     "metadata": {},
     "output_type": "execute_result"
    }
   ],
   "source": [
    "df.describe()"
   ]
  },
  {
   "cell_type": "code",
   "execution_count": 36,
   "id": "7e183d81",
   "metadata": {},
   "outputs": [
    {
     "data": {
      "text/plain": [
       "array(['Linear Acceleration Sensor', 'LSM6DSO Accelerometer',\n",
       "       'LSM6DSO Gyroscope', 'Samsung Rotation Vector'], dtype=object)"
      ]
     },
     "execution_count": 36,
     "metadata": {},
     "output_type": "execute_result"
    }
   ],
   "source": [
    "df[\"sensorId\"].unique()"
   ]
  },
  {
   "cell_type": "code",
   "execution_count": 37,
   "id": "c2bd50ce",
   "metadata": {},
   "outputs": [
    {
     "data": {
      "text/html": [
       "<div>\n",
       "<style scoped>\n",
       "    .dataframe tbody tr th:only-of-type {\n",
       "        vertical-align: middle;\n",
       "    }\n",
       "\n",
       "    .dataframe tbody tr th {\n",
       "        vertical-align: top;\n",
       "    }\n",
       "\n",
       "    .dataframe thead th {\n",
       "        text-align: right;\n",
       "    }\n",
       "</style>\n",
       "<table border=\"1\" class=\"dataframe\">\n",
       "  <thead>\n",
       "    <tr style=\"text-align: right;\">\n",
       "      <th></th>\n",
       "      <th>accuracy</th>\n",
       "      <th>data</th>\n",
       "      <th>experimentId</th>\n",
       "      <th>patientId</th>\n",
       "      <th>sensorId</th>\n",
       "      <th>sensorType</th>\n",
       "      <th>timestamp</th>\n",
       "    </tr>\n",
       "  </thead>\n",
       "  <tbody>\n",
       "    <tr>\n",
       "      <th>0</th>\n",
       "      <td>3</td>\n",
       "      <td>[-3.7372365, -6.1586776, 2.9958954]</td>\n",
       "      <td>2</td>\n",
       "      <td>1</td>\n",
       "      <td>Linear Acceleration Sensor</td>\n",
       "      <td>10</td>\n",
       "      <td>34804443546000</td>\n",
       "    </tr>\n",
       "    <tr>\n",
       "      <th>1</th>\n",
       "      <td>3</td>\n",
       "      <td>[0.366499, -0.194161, 0.066797, 0.907478, -1.0]</td>\n",
       "      <td>2</td>\n",
       "      <td>1</td>\n",
       "      <td>Samsung Rotation Vector</td>\n",
       "      <td>11</td>\n",
       "      <td>34804443546000</td>\n",
       "    </tr>\n",
       "    <tr>\n",
       "      <th>2</th>\n",
       "      <td>3</td>\n",
       "      <td>[-0.31757358, -0.35002577, 0.1432479]</td>\n",
       "      <td>2</td>\n",
       "      <td>1</td>\n",
       "      <td>LSM6DSO Gyroscope</td>\n",
       "      <td>4</td>\n",
       "      <td>34804443546000</td>\n",
       "    </tr>\n",
       "    <tr>\n",
       "      <th>3</th>\n",
       "      <td>3</td>\n",
       "      <td>[-0.08140286, 6.8285627, 7.0057335]</td>\n",
       "      <td>2</td>\n",
       "      <td>1</td>\n",
       "      <td>LSM6DSO Accelerometer</td>\n",
       "      <td>1</td>\n",
       "      <td>34804503287817</td>\n",
       "    </tr>\n",
       "    <tr>\n",
       "      <th>4</th>\n",
       "      <td>3</td>\n",
       "      <td>[-0.47405192, 7.1230493, 7.252336]</td>\n",
       "      <td>2</td>\n",
       "      <td>1</td>\n",
       "      <td>LSM6DSO Accelerometer</td>\n",
       "      <td>1</td>\n",
       "      <td>34804603544617</td>\n",
       "    </tr>\n",
       "  </tbody>\n",
       "</table>\n",
       "</div>"
      ],
      "text/plain": [
       "   accuracy                                             data  experimentId  \\\n",
       "0         3              [-3.7372365, -6.1586776, 2.9958954]             2   \n",
       "1         3  [0.366499, -0.194161, 0.066797, 0.907478, -1.0]             2   \n",
       "2         3            [-0.31757358, -0.35002577, 0.1432479]             2   \n",
       "3         3              [-0.08140286, 6.8285627, 7.0057335]             2   \n",
       "4         3               [-0.47405192, 7.1230493, 7.252336]             2   \n",
       "\n",
       "   patientId                    sensorId  sensorType       timestamp  \n",
       "0          1  Linear Acceleration Sensor          10  34804443546000  \n",
       "1          1     Samsung Rotation Vector          11  34804443546000  \n",
       "2          1           LSM6DSO Gyroscope           4  34804443546000  \n",
       "3          1       LSM6DSO Accelerometer           1  34804503287817  \n",
       "4          1       LSM6DSO Accelerometer           1  34804603544617  "
      ]
     },
     "execution_count": 37,
     "metadata": {},
     "output_type": "execute_result"
    }
   ],
   "source": [
    "df = df.sort_values(by='timestamp').reset_index(drop=True)\n",
    "df.head()"
   ]
  },
  {
   "cell_type": "code",
   "execution_count": 38,
   "id": "f9f19bfa",
   "metadata": {},
   "outputs": [],
   "source": [
    "df['timestamp'] = df['timestamp'] / 1000000000"
   ]
  },
  {
   "cell_type": "code",
   "execution_count": 39,
   "id": "07fea9ee",
   "metadata": {},
   "outputs": [
    {
     "data": {
      "image/png": "[encoded data removed]",
      "text/plain": [
       "<Figure size 640x480 with 1 Axes>"
      ]
     },
     "metadata": {},
     "output_type": "display_data"
    }
   ],
   "source": [
    "plt.hist(df['sensorId'], bins=10, color='skyblue', edgecolor='black')\n",
    "plt.title('Sensores')\n",
    "plt.xlabel('Sensor ID')\n",
    "plt.ylabel('Frequency')\n",
    "plt.xticks(rotation=90)\n",
    "plt.show()"
   ]
  },
  {
   "cell_type": "code",
   "execution_count": 40,
   "id": "fc7557f6",
   "metadata": {},
   "outputs": [
    {
     "data": {
      "text/plain": [
       "sensorId\n",
       "LSM6DSO Accelerometer         75\n",
       "Linear Acceleration Sensor    42\n",
       "Samsung Rotation Vector       42\n",
       "LSM6DSO Gyroscope             42\n",
       "Name: count, dtype: int64"
      ]
     },
     "execution_count": 40,
     "metadata": {},
     "output_type": "execute_result"
    }
   ],
   "source": [
    "sensor_counts = df['sensorId'].value_counts()\n",
    "sensor_counts"
   ]
  },
  {
   "cell_type": "code",
   "execution_count": 41,
   "id": "17e020a1",
   "metadata": {},
   "outputs": [],
   "source": [
    "# Calculating acceleration of the 3 axis\n",
    "def calculate_magnitude(data):\n",
    "    return np.sqrt(np.sum(np.square(data), axis=1))"
   ]
  },
  {
   "cell_type": "code",
   "execution_count": 43,
   "id": "f1a60af3",
   "metadata": {},
   "outputs": [],
   "source": [
    "# Linear acceleration\n",
    "linear_accel_data = df[df['sensorId'] == 'Linear Acceleration Sensor']\n",
    "linear_accel_data = linear_accel_data.reset_index(drop=True)\n",
    "# Calculate magnitude of acceleration\n",
    "linear_accel_data['magnitude'] = calculate_magnitude(np.array(linear_accel_data['data'].tolist()))"
   ]
  },
  {
   "cell_type": "code",
   "execution_count": 47,
   "id": "68a1b7f3",
   "metadata": {},
   "outputs": [
    {
     "data": {
      "image/png": "[encoded data removed]",
      "text/plain": [
       "<Figure size 1200x600 with 1 Axes>"
      ]
     },
     "metadata": {},
     "output_type": "display_data"
    }
   ],
   "source": [
    "# Analyzing shakey movement over time\n",
    "plt.figure(figsize=(12, 6))\n",
    "plt.plot(linear_accel_data['timestamp'], linear_accel_data['magnitude'], color='blue', linestyle='-', marker='o')\n",
    "plt.title('Parkinson movement over time')\n",
    "plt.xlabel('Timestamp (s)')\n",
    "plt.ylabel('Magnitude of Acceleration')\n",
    "plt.grid(True)\n",
    "plt.show()"
   ]
  }
 ],
 "metadata": {
  "kernelspec": {
   "display_name": "Python 3 (ipykernel)",
   "language": "python",
   "name": "python3"
  },
  "language_info": {
   "codemirror_mode": {
    "name": "ipython",
    "version": 3
   },
   "file_extension": ".py",
   "mimetype": "text/x-python",
   "name": "python",
   "nbconvert_exporter": "python",
   "pygments_lexer": "ipython3",
   "version": "3.11.5"
  }
 },
 "nbformat": 4,
 "nbformat_minor": 5
}
