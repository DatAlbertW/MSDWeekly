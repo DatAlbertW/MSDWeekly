{
 "cells": [
  {
   "cell_type": "code",
   "execution_count": 1,
   "metadata": {},
   "outputs": [],
   "source": [
    "from Bio.Seq import Seq\n",
    "import random"
   ]
  },
  {
   "cell_type": "code",
   "execution_count": 54,
   "metadata": {},
   "outputs": [],
   "source": [
    "class SequenceUtils: \n",
    "    @staticmethod\n",
    "    def transcribe_dna_to_rna(dna):\n",
    "        result = dna.transcribe()\n",
    "        return result\n",
    "\n",
    "    @staticmethod\n",
    "    def translate_rna_to_protein(rna):\n",
    "        result = rna.translate()\n",
    "        return result\n",
    "\n",
    "class SequenceStorage:\n",
    "    _instance = None\n",
    "\n",
    "    def __new__(cls, *args, **kwargs):\n",
    "        if not cls._instance:\n",
    "            cls._instance = super(SequenceStorage, cls).__new__(cls, *args, **kwargs)\n",
    "        return cls._instance\n",
    "    \n",
    "    def __init__(self):\n",
    "        if not hasattr(self, \"data\"):\n",
    "            self.data = {}\n",
    "\n",
    "    def save(self, name, seq):\n",
    "        self.data[name] = seq\n",
    "\n",
    "    def read (self, name):\n",
    "        return self.data[name]\n",
    "    \n",
    "class DNASequenceGenerator:\n",
    "    alphabet = ['A','C','G','T']\n",
    "    def create_sequence(self, n):\n",
    "        result = ''\n",
    "        for i in range(n):\n",
    "            idx = random.randint(0,3)\n",
    "            result = result + DNASequenceGenerator.alphabet[idx]\n",
    "        return result\n",
    "    \n",
    "class ProteinSequenceGenerator:\n",
    "    alphabet = ['A','R','N','D','C','Q','E','G','H','I','L','K','M','F','P','S','T','W','Y','V']\n",
    "    def create_sequence(self, n):\n",
    "        result = ''\n",
    "        for i in range(n):\n",
    "            idx = random.randint(0, 19)\n",
    "            result = result + ProteinSequenceGenerator.alphabet[idx]\n",
    "        return result\n",
    "    \n",
    "class SequenceFactory:\n",
    "    @staticmethod\n",
    "    def create_sequence(sequence_type, length):\n",
    "        if sequence_type == \"DNA\":\n",
    "            generator = DNASequenceGenerator()\n",
    "        elif sequence_type == \"Protein\":\n",
    "            generator = ProteinSequenceGenerator()\n",
    "        else:\n",
    "            raise ValueError(\"InnvalidSequence\")\n",
    "        return generator.create_sequence(length)\n",
    "\n",
    "if __name__ == '__main__':\n",
    "\n",
    "    sequence = 'GTGGCCATTGTAATGGGCCGCTGAAAGGGTGCCCGATAG'"
   ]
  },
  {
   "cell_type": "code",
   "execution_count": 55,
   "metadata": {},
   "outputs": [
    {
     "name": "stdout",
     "output_type": "stream",
     "text": [
      "GUGGCCAUUGUAAUGGGCCGCUGAAAGGGUGCCCGAUAG\n",
      "VAIVMGR*KGAR*\n"
     ]
    }
   ],
   "source": [
    "    # Creating a Seq Biopythonn object from the given DNA sequence\n",
    "    dna_sequence = Seq(sequence)\n",
    "\n",
    "    # Transcribing DNA Seq to RNA sequence\n",
    "    rna_sequence = SequenceUtils.transcribe_dna_to_rna(dna_seq)\n",
    "    print(rna_seq)\n",
    "\n",
    "    # Translating the RNA Seq to protein sequence\n",
    "    protein_sequence = SequenceUtils.translate_rna_to_protein(rna_seq)\n",
    "    print(protein_seq)"
   ]
  },
  {
   "cell_type": "code",
   "execution_count": 56,
   "metadata": {},
   "outputs": [
    {
     "name": "stdout",
     "output_type": "stream",
     "text": [
      "GTGGCCATTGTAATGGGCCGCTGAAAGGGTGCCCGATAG\n",
      "GUGGCCAUUGUAAUGGGCCGCUGAAAGGGUGCCCGAUAG\n",
      "VAIVMGR*KGAR*\n"
     ]
    }
   ],
   "source": [
    "    stored = SequenceStorage()\n",
    "\n",
    "    # Store the sequences\n",
    "    stored.save('DNA', dna_sequence)\n",
    "    stored.save('RNA', rna_sequence)\n",
    "    stored.save('Protein', protein_sequence)\n",
    "\n",
    "    # Read stored sequences\n",
    "    stored_dna = stored.read('DNA')\n",
    "    stored_rna = stored.read('RNA')\n",
    "    stored_protein = stored.read('Protein')\n",
    "\n",
    "    print(stored_dna)\n",
    "    print(stored_rna)\n",
    "    print(stored_protein)"
   ]
  },
  {
   "cell_type": "code",
   "execution_count": 57,
   "metadata": {},
   "outputs": [
    {
     "name": "stdout",
     "output_type": "stream",
     "text": [
      "ATCGTCAAAATATCAATCCCAGAGTCCCG\n"
     ]
    }
   ],
   "source": [
    "# generate Random DNA sequence\n",
    "dna_seq_gen = DNASequenceGenerator()\n",
    "random_seq = dna_seq_gen.create_sequence(29)\n",
    "print(random_seq)\n"
   ]
  },
  {
   "cell_type": "code",
   "execution_count": 59,
   "metadata": {},
   "outputs": [
    {
     "name": "stdout",
     "output_type": "stream",
     "text": [
      "KPAYHNESKMAFEQEQHPDMRLEYEPHPAG\n",
      "KPAYHNESKMAFEQEQHPDMRLEYEPHPAG\n"
     ]
    }
   ],
   "source": [
    "# generate New protein sequence with SequenceFactory Method\n",
    "protein_sequence = SequenceFactory.create_sequence('Protein', 30)\n",
    "print(protein_sequence)\n",
    "\n",
    "stored.save('New Protein', protein_sequence)\n",
    "stored_new_protein = stored.read('New Protein')\n",
    "print(stored_new_protein)"
   ]
  }
 ],
 "metadata": {
  "kernelspec": {
   "display_name": "my_streamlit_env",
   "language": "python",
   "name": "python3"
  },
  "language_info": {
   "codemirror_mode": {
    "name": "ipython",
    "version": 3
   },
   "file_extension": ".py",
   "mimetype": "text/x-python",
   "name": "python",
   "nbconvert_exporter": "python",
   "pygments_lexer": "ipython3",
   "version": "3.11.5"
  }
 },
 "nbformat": 4,
 "nbformat_minor": 2
}
