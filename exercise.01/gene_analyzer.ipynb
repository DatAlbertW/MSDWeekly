{
 "cells": [
  {
   "cell_type": "code",
   "execution_count": 1,
   "metadata": {},
   "outputs": [],
   "source": [
    "# WEEK 1: GENE ANALYZER (ALBERTO WICKER VERA)"
   ]
  },
  {
   "cell_type": "code",
   "execution_count": 2,
   "metadata": {},
   "outputs": [],
   "source": [
    "# Importing Necesary Libraries\n",
    "import os\n",
    "import hashlib\n",
    "import pandas as pd"
   ]
  },
  {
   "cell_type": "code",
   "execution_count": 13,
   "metadata": {},
   "outputs": [],
   "source": [
    "# Loading gene_info file\n",
    "file_path = os.path.expanduser('/Users/albertwv/Downloads/gene_info')"
   ]
  },
  {
   "cell_type": "code",
   "execution_count": 18,
   "metadata": {},
   "outputs": [],
   "source": [
    "def compute_md5(file_path):\n",
    "    hash_md5 = hashlib.md5()\n",
    "    with open(file_path, \"rb\") as f:\n",
    "        for chunk in iter(lambda: f.read(9606), b\"\"):\n",
    "            hash_md5.update(chunk)\n",
    "    return hash_md5.hexdigest()"
   ]
  },
  {
   "cell_type": "code",
   "execution_count": 19,
   "metadata": {},
   "outputs": [],
   "source": [
    "def process_gene_info(file_path, chunk_size=500000):\n",
    "    gene_counter = set()\n",
    "    homo_sapiens_genes = set()\n",
    "    gene_types = set()\n",
    "    gene_type_counts = {}\n",
    "\n",
    "    for chunk in pd.read_csv(file_path, sep='\\t', chunksize=chunk_size, low_memory=False):\n",
    "        # Update gene counters\n",
    "        gene_counter.update(chunk['GeneID'])\n",
    "\n",
    "        # Handling NaN values in 'description'\n",
    "        chunk_filtered = chunk.dropna(subset=['description'])\n",
    "        #homo_sapiens_genes.update(chunk_filtered[chunk_filtered['description'].str.contains('Homo Sapiens')]['GeneID'])\n",
    "        homo_sapiens_genes.update(chunk_filtered[chunk_filtered['description'].str.contains('Homo Sapiens', case=False, na=False)]['GeneID'])\n",
    "\n",
    "        # Updatinng gene types\n",
    "        gene_types.update(chunk['type_of_gene'].dropna())\n",
    "\n",
    "        # Counting gene types, handling NaNs\n",
    "        for gene_type in chunk['type_of_gene'].dropna():\n",
    "            gene_type_counts[gene_type] = gene_type_counts.get(gene_type, 0) + 1\n",
    "\n",
    "    # Finding the most common gene type\n",
    "    most_common_gene_type = max(gene_type_counts, key=gene_type_counts.get)\n",
    "\n",
    "    return len(gene_counter), len(homo_sapiens_genes), gene_types, most_common_gene_type"
   ]
  },
  {
   "cell_type": "code",
   "execution_count": 20,
   "metadata": {},
   "outputs": [
    {
     "name": "stdout",
     "output_type": "stream",
     "text": [
      "MD5 value: d09fea4c6462a4970a07343dc5496bf1\n"
     ]
    }
   ],
   "source": [
    "# Computing MD5\n",
    "md5_value = compute_md5(file_path)\n",
    "print(\"MD5 value:\", md5_value)"
   ]
  },
  {
   "cell_type": "code",
   "execution_count": 21,
   "metadata": {},
   "outputs": [
    {
     "name": "stdout",
     "output_type": "stream",
     "text": [
      "Number of Listed Genes: 52,966,526\n",
      "Number of Listed Genes for Homo Sapiens: 8\n",
      "List of Gene Types: rRNA, protein-coding, unknown, snoRNA, snRNA, tRNA, biological-region, ncRNA, pseudo, miscRNA, other, scRNA\n",
      "Most Frequent Gene: protein-coding\n"
     ]
    }
   ],
   "source": [
    "# Process gene info\n",
    "total_genes, homo_sapiens_genes, gene_types, most_common_gene_type = process_gene_info(file_path)\n",
    "\n",
    "print(\"Number of Listed Genes:\", format(total_genes, ','))\n",
    "print(\"Number of Listed Genes for Homo Sapiens:\", format(homo_sapiens_genes, ','))\n",
    "print(\"List of Gene Types:\", ', '.join(gene_types))\n",
    "print(\"Most Frequent Gene:\", most_common_gene_type)"
   ]
  }
 ],
 "metadata": {
  "kernelspec": {
   "display_name": "Python 3",
   "language": "python",
   "name": "python3"
  },
  "language_info": {
   "codemirror_mode": {
    "name": "ipython",
    "version": 3
   },
   "file_extension": ".py",
   "mimetype": "text/x-python",
   "name": "python",
   "nbconvert_exporter": "python",
   "pygments_lexer": "ipython3",
   "version": "3.8.18"
  }
 },
 "nbformat": 4,
 "nbformat_minor": 2
}
