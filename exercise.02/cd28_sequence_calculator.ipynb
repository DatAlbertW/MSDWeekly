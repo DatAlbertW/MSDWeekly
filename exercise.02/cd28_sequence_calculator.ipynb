{
 "cells": [
  {
   "cell_type": "code",
   "execution_count": 5,
   "metadata": {},
   "outputs": [
    {
     "name": "stdout",
     "output_type": "stream",
     "text": [
      "Collecting biopython\n",
      "  Downloading biopython-1.83-cp311-cp311-macosx_10_9_x86_64.whl.metadata (13 kB)\n",
      "Requirement already satisfied: numpy in /Library/Frameworks/Python.framework/Versions/3.11/lib/python3.11/site-packages (from biopython) (1.25.2)\n",
      "Downloading biopython-1.83-cp311-cp311-macosx_10_9_x86_64.whl (2.7 MB)\n",
      "\u001b[2K   \u001b[90m━━━━━━━━━━━━━━━━━━━━━━━━━━━━━━━━━━━━━━━━\u001b[0m \u001b[32m2.7/2.7 MB\u001b[0m \u001b[31m11.0 MB/s\u001b[0m eta \u001b[36m0:00:00\u001b[0ma \u001b[36m0:00:01\u001b[0m\n",
      "\u001b[?25hInstalling collected packages: biopython\n",
      "Successfully installed biopython-1.83\n",
      "\n",
      "\u001b[1m[\u001b[0m\u001b[34;49mnotice\u001b[0m\u001b[1;39;49m]\u001b[0m\u001b[39;49m A new release of pip is available: \u001b[0m\u001b[31;49m23.3\u001b[0m\u001b[39;49m -> \u001b[0m\u001b[32;49m24.0\u001b[0m\n",
      "\u001b[1m[\u001b[0m\u001b[34;49mnotice\u001b[0m\u001b[1;39;49m]\u001b[0m\u001b[39;49m To update, run: \u001b[0m\u001b[32;49mpip3 install --upgrade pip\u001b[0m\n",
      "Note: you may need to restart the kernel to use updated packages.\n"
     ]
    }
   ],
   "source": [
    "pip install biopython"
   ]
  },
  {
   "cell_type": "code",
   "execution_count": 8,
   "metadata": {},
   "outputs": [],
   "source": [
    "from Bio import SeqIO\n",
    "from Bio.Seq import Seq"
   ]
  },
  {
   "cell_type": "code",
   "execution_count": 28,
   "metadata": {},
   "outputs": [],
   "source": [
    "def compute_gc(file_path):\n",
    "    try:\n",
    "        with open(file_path, \"r\") as file:\n",
    "            records = list(SeqIO.parse(file, \"fasta\"))\n",
    "            if not records:\n",
    "                return \"No sequences found in the file.\"\n",
    "            \n",
    "            # Extracting the header information\n",
    "            header = records[0].description\n",
    "            sequence = records[0].seq\n",
    "            gc_content = 100 * float(sequence.count(\"G\") + sequence.count(\"C\")) / len(sequence)\n",
    "\n",
    "            # Returning the header and GC content\n",
    "            return f\"{header}\\nGC-content: {gc_content:.2f}%\"\n",
    "    except Exception as e:\n",
    "        return f\"An error occurred: {e}\""
   ]
  },
  {
   "cell_type": "code",
   "execution_count": 29,
   "metadata": {},
   "outputs": [
    {
     "name": "stdout",
     "output_type": "stream",
     "text": [
      "2 dna:chromosome chromosome:GRCh38:2:203705875:203739512:1\n",
      "GC-content: 39.97%\n"
     ]
    }
   ],
   "source": [
    "# CD28 sequence FASTA file path\n",
    "cd28 = \"/Users/albertwv/Desktop/2_Semester/MSoftwareD/W2/Homo_sapiens_CD28_sequence.fa\"\n",
    "gc_content = compute_gc(cd28)\n",
    "print(gc_content)"
   ]
  }
 ],
 "metadata": {
  "kernelspec": {
   "display_name": "Python 3",
   "language": "python",
   "name": "python3"
  },
  "language_info": {
   "codemirror_mode": {
    "name": "ipython",
    "version": 3
   },
   "file_extension": ".py",
   "mimetype": "text/x-python",
   "name": "python",
   "nbconvert_exporter": "python",
   "pygments_lexer": "ipython3",
   "version": "3.11.5"
  }
 },
 "nbformat": 4,
 "nbformat_minor": 2
}
